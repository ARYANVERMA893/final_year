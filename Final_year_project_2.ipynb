{
 "cells": [
  {
   "cell_type": "code",
   "execution_count": 39,
   "id": "c858de5d",
   "metadata": {},
   "outputs": [],
   "source": [
    "import numpy as np\n",
    "import pandas as pd\n",
    "import matplotlib.pyplot as plt\n",
    "from sklearn.preprocessing import MinMaxScaler\n",
    "from sklearn.metrics import mean_squared_error\n",
    "from tensorflow.keras.models import Sequential\n",
    "from datetime import datetime, timedelta\n",
    "from tensorflow.keras.layers import LSTM, Dense\n",
    "from kerastuner.tuners import RandomSearch\n",
    "from tensorflow.keras.optimizers import Adam\n",
    "from tensorflow.keras.callbacks import EarlyStopping, ModelCheckpoint\n",
    "import pandas as pd\n",
    "from sklearn.feature_extraction.text import TfidfVectorizer\n",
    "from sklearn.metrics.pairwise import linear_kernel\n",
    "import yfinance as yf"
   ]
  },
  {
   "cell_type": "code",
   "execution_count": 40,
   "id": "4913ac6c",
   "metadata": {},
   "outputs": [],
   "source": [
    "def download_stock_data(ticker, start_date, end_date):\n",
    "    stock_data = yf.download(ticker, start=start_date, end=end_date)\n",
    "    return stock_data"
   ]
  },
  {
   "cell_type": "code",
   "execution_count": 41,
   "id": "f0712abe",
   "metadata": {},
   "outputs": [],
   "source": [
    "def create_sequences(data, sequence_length):\n",
    "    sequences = []\n",
    "    for i in range(len(data) - sequence_length):\n",
    "        seq = data[i:i+sequence_length]\n",
    "        label = data[i+sequence_length]\n",
    "        sequences.append((seq, label))\n",
    "    return np.array(sequences)\n"
   ]
  },
  {
   "cell_type": "code",
   "execution_count": 42,
   "id": "26edc2f4",
   "metadata": {},
   "outputs": [],
   "source": [
    "def build_tunable_lstm_model(hp, sequence_length):\n",
    "    model = Sequential()\n",
    "    model.add(LSTM(units=hp.Int('lstm_units', min_value=50, max_value=200, step=50),\n",
    "                   input_shape=(sequence_length, 1)))\n",
    "    model.add(Dense(units=hp.Int('dense_units', min_value=32, max_value=128, step=32),\n",
    "                    activation='relu'))\n",
    "    model.add(Dense(1))\n",
    "    optimizer = Adam(learning_rate=hp.Float('learning_rate', min_value=0.0001, max_value=0.01, sampling='log'))\n",
    "    model.compile(optimizer=optimizer, loss='mean_squared_error')\n",
    "    return model\n"
   ]
  },
  {
   "cell_type": "code",
   "execution_count": 43,
   "id": "edf29a9c",
   "metadata": {},
   "outputs": [
    {
     "data": {
      "text/plain": [
       "<function __main__.<lambda>(hp)>"
      ]
     },
     "execution_count": 43,
     "metadata": {},
     "output_type": "execute_result"
    }
   ],
   "source": [
    "lambda hp: build_tunable_lstm_model(hp, sequence_length)\n"
   ]
  },
  {
   "cell_type": "code",
   "execution_count": 46,
   "id": "f3aed125",
   "metadata": {},
   "outputs": [],
   "source": [
    "def tune_hyperparameters_tuner(train_data, val_data, sequence_length):\n",
    "    tuner = RandomSearch(\n",
    "        lambda hp: build_tunable_lstm_model(hp, sequence_length),\n",
    "        objective='val_loss',\n",
    "        \n",
    "        max_trials=10,\n",
    "        directory='keras_tuner_dir',\n",
    "        project_name='stock_price_prediction')\n",
    "\n",
    "    tuner.search(train_data[0], train_data[1],\n",
    "                 epochs=50,\n",
    "                 batch_size=32,\n",
    "                 validation_data=val_data,\n",
    "                 callbacks=[EarlyStopping(monitor='val_loss', patience=10, restore_best_weights=True)])\n",
    "\n",
    "    best_model = tuner.get_best_models(num_models=1)[0]\n",
    "    best_mse = best_model.evaluate(val_data[0], val_data[1])\n",
    "    return best_model, best_mse\n"
   ]
  },
  {
   "cell_type": "code",
   "execution_count": 47,
   "id": "51f821fe",
   "metadata": {},
   "outputs": [],
   "source": [
    "def generate_dates(start_date, end_date, sequence_length):\n",
    "    end_date = datetime.strptime(end_date, \"%Y-%m-%d\")\n",
    "    predicted_dates = [end_date + timedelta(days=i) for i in range(1, sequence_length + 1)]\n",
    "    return predicted_dates\n"
   ]
  },
  {
   "cell_type": "code",
   "execution_count": 48,
   "id": "ed796d2e",
   "metadata": {},
   "outputs": [],
   "source": [
    "def predict_stock_prices(model, test_data):\n",
    "    predictions = model.predict(test_data)\n",
    "    return predictions\n"
   ]
  },
  {
   "cell_type": "code",
   "execution_count": 49,
   "id": "6f734523",
   "metadata": {},
   "outputs": [],
   "source": [
    "def evaluate_model(ticker, start_date, end_date):\n",
    "    # Download stock data\n",
    "    stock_data = download_stock_data(ticker, start_date, end_date)\n",
    "\n",
    "    # Preprocess data\n",
    "    scaler = MinMaxScaler(feature_range=(0, 1))\n",
    "    scaled_data = scaler.fit_transform(stock_data['Close'].values.reshape(-1, 1))\n",
    "\n",
    "    # Create sequences\n",
    "    sequence_length = 10\n",
    "    sequences = create_sequences(scaled_data, sequence_length)\n",
    "\n",
    "    # Split data into train and validation sets\n",
    "    train_size = int(len(sequences) * 0.8)\n",
    "    train_data = sequences[:train_size]\n",
    "    val_data = sequences[train_size:]\n",
    "    train_X, train_y = zip(*train_data)\n",
    "    val_X, val_y = zip(*val_data)\n",
    "\n",
    "    train_X = np.array(train_X)\n",
    "    train_y = np.array(train_y)\n",
    "    val_X = np.array(val_X)\n",
    "    val_y = np.array(val_y)\n",
    "\n",
    "    # Reshape the data\n",
    "    train_X = np.reshape(train_X, (train_X.shape[0], train_X.shape[1], 1))\n",
    "    val_X = np.reshape(val_X, (val_X.shape[0], val_X.shape[1], 1))\n",
    "\n",
    "    # Hyperparameter tuning\n",
    "    lstm_units_list = [50, 80]\n",
    "    dense_units_list = [32, 64]\n",
    "    learning_rate_list = [0.001, 0.01]\n",
    "\n",
    "    best_model, _ = tune_hyperparameters_tuner((train_X, train_y), (val_X, val_y), sequence_length)\n",
    "\n",
    "    # Test the model\n",
    "    test_data = sequences[train_size - sequence_length:]\n",
    "    test_X, test_y = zip(*test_data)\n",
    "    test_X = np.array(test_X)\n",
    "    test_y = np.array(test_y)\n",
    "\n",
    "    # Reshape the data\n",
    "    test_X = np.reshape(test_X, (test_X.shape[0], test_X.shape[1], 1))\n",
    "\n",
    "    predictions = predict_stock_prices(best_model, test_X)\n",
    "\n",
    "    # Inverse transform the predictions and actual values\n",
    "    predictions = scaler.inverse_transform(predictions)\n",
    "    actual_values = scaler.inverse_transform(np.array(test_y).reshape(-1, 1))\n",
    "\n",
    "    # Only keep the relevant part of actual_values\n",
    "    actual_values = actual_values[:len(predictions)]\n",
    "\n",
    "    return actual_values, predictions, generate_dates(end_date, end_date, sequence_length)\n",
    "   \n"
   ]
  },
  {
   "cell_type": "code",
   "execution_count": 50,
   "id": "1209ba3f",
   "metadata": {},
   "outputs": [
    {
     "name": "stdout",
     "output_type": "stream",
     "text": [
      "Enter the stock ticker: GOOGL\n",
      "Enter the start date (YYYY-MM-DD): 2020-01-01\n",
      "Enter the end date (YYYY-MM-DD): 2024-02-02\n",
      "[*********************100%***********************]  1 of 1 completed\n",
      "Reloading Tuner from keras_tuner_dir\\stock_price_prediction\\tuner0.json\n",
      "WARNING:tensorflow:Detecting that an object or model or tf.train.Checkpoint is being deleted with unrestored values. See the following logs for the specific values in question. To silence these warnings, use `status.expect_partial()`. See https://www.tensorflow.org/api_docs/python/tf/train/Checkpoint#restorefor details about the status object returned by the restore function.\n",
      "WARNING:tensorflow:Value in checkpoint could not be found in the restored object: (root).optimizer._variables.1\n",
      "WARNING:tensorflow:Value in checkpoint could not be found in the restored object: (root).optimizer._variables.2\n",
      "WARNING:tensorflow:Value in checkpoint could not be found in the restored object: (root).optimizer._variables.3\n",
      "WARNING:tensorflow:Value in checkpoint could not be found in the restored object: (root).optimizer._variables.4\n",
      "WARNING:tensorflow:Value in checkpoint could not be found in the restored object: (root).optimizer._variables.5\n",
      "WARNING:tensorflow:Value in checkpoint could not be found in the restored object: (root).optimizer._variables.6\n",
      "WARNING:tensorflow:Value in checkpoint could not be found in the restored object: (root).optimizer._variables.7\n",
      "WARNING:tensorflow:Value in checkpoint could not be found in the restored object: (root).optimizer._variables.8\n",
      "WARNING:tensorflow:Value in checkpoint could not be found in the restored object: (root).optimizer._variables.9\n",
      "WARNING:tensorflow:Value in checkpoint could not be found in the restored object: (root).optimizer._variables.10\n",
      "WARNING:tensorflow:Value in checkpoint could not be found in the restored object: (root).optimizer._variables.11\n",
      "WARNING:tensorflow:Value in checkpoint could not be found in the restored object: (root).optimizer._variables.12\n",
      "WARNING:tensorflow:Value in checkpoint could not be found in the restored object: (root).optimizer._variables.13\n",
      "WARNING:tensorflow:Value in checkpoint could not be found in the restored object: (root).optimizer._variables.14\n"
     ]
    },
    {
     "name": "stderr",
     "output_type": "stream",
     "text": [
      "C:\\Users\\D\\AppData\\Local\\Temp\\ipykernel_9436\\1077509186.py:7: VisibleDeprecationWarning: Creating an ndarray from ragged nested sequences (which is a list-or-tuple of lists-or-tuples-or ndarrays with different lengths or shapes) is deprecated. If you meant to do this, you must specify 'dtype=object' when creating the ndarray.\n",
      "  return np.array(sequences)\n"
     ]
    },
    {
     "name": "stdout",
     "output_type": "stream",
     "text": [
      "7/7 [==============================] - 0s 5ms/step - loss: 5.5562e-04\n",
      "7/7 [==============================] - 0s 7ms/step\n",
      "Predicted Values\n",
      "\n",
      "Predicted Dates: [datetime.datetime(2024, 2, 3, 0, 0), datetime.datetime(2024, 2, 4, 0, 0), datetime.datetime(2024, 2, 5, 0, 0), datetime.datetime(2024, 2, 6, 0, 0), datetime.datetime(2024, 2, 7, 0, 0), datetime.datetime(2024, 2, 8, 0, 0), datetime.datetime(2024, 2, 9, 0, 0), datetime.datetime(2024, 2, 10, 0, 0), datetime.datetime(2024, 2, 11, 0, 0), datetime.datetime(2024, 2, 12, 0, 0)]\n",
      "Predictions: [103.544266 101.886765 101.594604 101.268265 103.08702  104.249985\n",
      " 104.8418   104.81608  107.26107  106.93991  106.00798  105.15815\n",
      " 106.76066  108.35386  107.05661  105.46964  104.69053  105.23441\n",
      " 105.570366 106.07775  104.83706  104.24152  106.617386 107.35604\n",
      " 107.48024  106.22152  105.771225 105.17015  105.580124 107.2377\n",
      " 107.60116  110.48714  114.61437  116.6812   116.61989  118.41856\n",
      " 119.964264 121.83178  122.45078  124.155716 123.1346   121.64194\n",
      " 122.89521  124.20097  124.046844 123.4077   123.75084  124.52676\n",
      " 125.69179  126.918816 124.07488  122.820526 122.55438  123.49595\n",
      " 123.99124  124.02626  124.94199  124.18279  123.573685 121.660675\n",
      " 122.796135 122.74482  120.0447   119.08249  120.06698  119.748535\n",
      " 119.97795  120.17025  121.42791  120.76766  120.03272  117.771355\n",
      " 117.48831  118.68291  122.85024  124.87435  124.874954 124.129074\n",
      " 122.673325 120.34352  120.19704  121.32938  122.24741  127.22991\n",
      " 128.9532   131.261    132.23015  131.59123  129.22208  128.5959\n",
      " 128.35257  130.72122  131.48546  130.44002  130.05116  129.83395\n",
      " 130.98001  130.32066  129.34921  129.88052  128.43881  128.55446\n",
      " 129.11835  131.54706  130.55928  130.18633  130.82237  133.48314\n",
      " 135.24667  135.91216  135.70801  135.69545  134.83109  135.13715\n",
      " 136.09958  136.8158   135.93718  136.56017  137.73752  137.60997\n",
      " 138.08578  138.11707  135.16003  131.97412  130.97346  131.40588\n",
      " 129.87988  130.69194  132.1525   131.56029  133.49294  132.88707\n",
      " 134.52951  134.96533  136.78116  137.92465  138.0077   139.71631\n",
      " 139.17482  137.8784   138.71815  139.52078  138.55498  138.10039\n",
      " 136.50082  136.6584   138.37648  129.77815  124.5609   123.240776\n",
      " 124.7259   124.95547  126.50759  127.58806  128.86803  129.91411\n",
      " 130.60054  131.40872  130.59842  131.93584  132.10133  133.20653\n",
      " 134.26062  136.16287  135.6302   136.03505  136.68419  137.95404\n",
      " 137.13326  136.64966  137.09962  135.76549  133.65973  132.58644\n",
      " 130.57712  131.17075  130.75917  135.2951   135.39944  134.04166\n",
      " 132.97908  132.71413  132.28127  132.64522  135.01096  136.34778\n",
      " 137.84682  139.62965  140.85838  141.2027   140.48842  140.20255\n",
      " 139.83824  138.75577  139.00092  137.39146  136.44528  138.35194\n",
      " 140.42586  141.89255  142.0774   142.42778  142.40164  141.69817\n",
      " 142.92078  145.40353  145.8834   146.67061  148.03905  150.62593\n",
      " 151.62009  152.75775  151.61818  143.25429 ]\n"
     ]
    }
   ],
   "source": [
    "if __name__ == \"__main__\":\n",
    "    ticker = input(\"Enter the stock ticker: \")\n",
    "    start_date = input(\"Enter the start date (YYYY-MM-DD): \")\n",
    "    end_date = input(\"Enter the end date (YYYY-MM-DD): \")\n",
    "\n",
    "    actual_values, predictions, predicted_dates = evaluate_model(ticker, start_date, end_date)\n",
    "\n",
    "    print(\"Predicted Values\")\n",
    "    print()\n",
    "    print(\"Predicted Dates:\", predicted_dates)\n",
    "    print(\"Predictions:\", predictions.flatten())\n"
   ]
  },
  {
   "cell_type": "code",
   "execution_count": 51,
   "id": "c9a9f919",
   "metadata": {},
   "outputs": [
    {
     "name": "stdout",
     "output_type": "stream",
     "text": [
      "Stock Name: GOOGL\n",
      "Actual Values: [101.02999878 101.38999939 100.88999939 103.73000336 104.36000061\n",
      " 104.72000122 104.47000122 108.41999817 106.44000244 105.34999847\n",
      " 104.63999939 107.43000031 108.87000275 105.97000122 104.5\n",
      " 104.18000031 105.29000092 105.41000366 105.97000122 103.84999847\n",
      " 103.70999908 107.58999634 107.33999634 107.19999695 105.31999969\n",
      " 105.41000366 104.69000244 105.56999969 107.76999664 107.34999847\n",
      " 111.75       116.56999969 117.51000214 116.51000214 119.51000214\n",
      " 120.83999634 122.83000183 122.76000214 125.05000305 122.55999756\n",
      " 120.90000153 123.48000336 124.61000061 123.66999817 122.87000275\n",
      " 123.72000122 124.66999817 126.01000214 127.30999756 122.5\n",
      " 122.13999939 122.23000336 123.63999939 123.83000183 123.66999817\n",
      " 125.08999634 123.52999878 123.09999847 120.55000305 123.15000153\n",
      " 122.33999634 118.33999634 118.33000183 120.18000031 119.09999847\n",
      " 119.69999695 119.90000153 121.75       120.11000061 119.48000336\n",
      " 116.44999695 117.13999939 118.93000031 124.54000092 125.41999817\n",
      " 124.65000153 123.76000214 122.02999878 119.19999695 120.01999664\n",
      " 121.52999878 122.20999908 129.27000427 129.3999939  132.58000183\n",
      " 132.72000122 131.55000305 128.38000488 128.44999695 128.11000061\n",
      " 131.52999878 131.3999939  129.66000366 129.69000244 129.55999756\n",
      " 131.33000183 129.77999878 128.69999695 129.91999817 127.45999908\n",
      " 128.36999512 129.08000183 132.36999512 129.77999878 129.88000488\n",
      " 131.00999451 134.57000732 135.88000488 136.16999817 135.66000366\n",
      " 135.77000427 134.46000671 135.25999451 136.38000488 136.91999817\n",
      " 135.33999634 136.71000671 138.1000061  137.3999939  138.21000671\n",
      " 138.03999329 133.74000549 130.44000244 130.25       131.11000061\n",
      " 128.57000732 130.53999329 132.30999756 130.86000061 134.16999817\n",
      " 132.42999268 135.24000549 135.07000732 137.58000183 138.41999817\n",
      " 138.05999756 140.55000305 138.97000122 137.36000061 139.1000061\n",
      " 139.72000122 137.96000671 137.75       135.6000061  136.5\n",
      " 138.80999756 125.61000061 122.27999878 122.16999817 124.45999908\n",
      " 124.08000183 126.44999695 127.48999786 129.1000061  130.25\n",
      " 130.97000122 131.83999634 130.24000549 132.58999634 132.08999634\n",
      " 133.61999512 134.61999512 136.92999268 135.30999756 136.25\n",
      " 136.97000122 138.49000549 136.69000244 136.41000366 137.19999695\n",
      " 134.99000549 132.52999878 131.86000061 129.27000427 130.99000549\n",
      " 130.02000427 136.92999268 134.99000549 133.28999329 132.52000427\n",
      " 132.57000732 131.94000244 132.6000061  135.80000305 136.6499939\n",
      " 138.33999634 140.41999817 141.49000549 141.52000427 140.36999512\n",
      " 140.22999573 139.69000244 138.16999817 138.91999817 136.38999939\n",
      " 135.72999573 138.83999634 140.94999695 142.27999878 142.08000183\n",
      " 142.6499939  142.49000549 141.47000122 143.47999573 146.38000488\n",
      " 145.99000549 147.03999329 148.69999695 151.86999512 152.19000244\n",
      " 153.50999451 151.46000671 140.1000061  141.74000549]\n",
      "\n",
      "***************************************************************\n",
      "\n",
      "Predicted Values\n",
      "\n",
      "Predicted Dates: [datetime.datetime(2024, 2, 3, 0, 0), datetime.datetime(2024, 2, 4, 0, 0), datetime.datetime(2024, 2, 5, 0, 0), datetime.datetime(2024, 2, 6, 0, 0), datetime.datetime(2024, 2, 7, 0, 0), datetime.datetime(2024, 2, 8, 0, 0), datetime.datetime(2024, 2, 9, 0, 0), datetime.datetime(2024, 2, 10, 0, 0), datetime.datetime(2024, 2, 11, 0, 0), datetime.datetime(2024, 2, 12, 0, 0)]\n",
      "Predictions: [103.544266 101.886765 101.594604 101.268265 103.08702  104.249985\n",
      " 104.8418   104.81608  107.26107  106.93991  106.00798  105.15815\n",
      " 106.76066  108.35386  107.05661  105.46964  104.69053  105.23441\n",
      " 105.570366 106.07775  104.83706  104.24152  106.617386 107.35604\n",
      " 107.48024  106.22152  105.771225 105.17015  105.580124 107.2377\n",
      " 107.60116  110.48714  114.61437  116.6812   116.61989  118.41856\n",
      " 119.964264 121.83178  122.45078  124.155716 123.1346   121.64194\n",
      " 122.89521  124.20097  124.046844 123.4077   123.75084  124.52676\n",
      " 125.69179  126.918816 124.07488  122.820526 122.55438  123.49595\n",
      " 123.99124  124.02626  124.94199  124.18279  123.573685 121.660675\n",
      " 122.796135 122.74482  120.0447   119.08249  120.06698  119.748535\n",
      " 119.97795  120.17025  121.42791  120.76766  120.03272  117.771355\n",
      " 117.48831  118.68291  122.85024  124.87435  124.874954 124.129074\n",
      " 122.673325 120.34352  120.19704  121.32938  122.24741  127.22991\n",
      " 128.9532   131.261    132.23015  131.59123  129.22208  128.5959\n",
      " 128.35257  130.72122  131.48546  130.44002  130.05116  129.83395\n",
      " 130.98001  130.32066  129.34921  129.88052  128.43881  128.55446\n",
      " 129.11835  131.54706  130.55928  130.18633  130.82237  133.48314\n",
      " 135.24667  135.91216  135.70801  135.69545  134.83109  135.13715\n",
      " 136.09958  136.8158   135.93718  136.56017  137.73752  137.60997\n",
      " 138.08578  138.11707  135.16003  131.97412  130.97346  131.40588\n",
      " 129.87988  130.69194  132.1525   131.56029  133.49294  132.88707\n",
      " 134.52951  134.96533  136.78116  137.92465  138.0077   139.71631\n",
      " 139.17482  137.8784   138.71815  139.52078  138.55498  138.10039\n",
      " 136.50082  136.6584   138.37648  129.77815  124.5609   123.240776\n",
      " 124.7259   124.95547  126.50759  127.58806  128.86803  129.91411\n",
      " 130.60054  131.40872  130.59842  131.93584  132.10133  133.20653\n",
      " 134.26062  136.16287  135.6302   136.03505  136.68419  137.95404\n",
      " 137.13326  136.64966  137.09962  135.76549  133.65973  132.58644\n",
      " 130.57712  131.17075  130.75917  135.2951   135.39944  134.04166\n",
      " 132.97908  132.71413  132.28127  132.64522  135.01096  136.34778\n",
      " 137.84682  139.62965  140.85838  141.2027   140.48842  140.20255\n",
      " 139.83824  138.75577  139.00092  137.39146  136.44528  138.35194\n",
      " 140.42586  141.89255  142.0774   142.42778  142.40164  141.69817\n",
      " 142.92078  145.40353  145.8834   146.67061  148.03905  150.62593\n",
      " 151.62009  152.75775  151.61818  143.25429 ]\n",
      "\n",
      "\n",
      "Prdiction Date 2024-02-02\n",
      "Predicted Price  143.25429\n"
     ]
    }
   ],
   "source": [
    "print(\"Stock Name:\", ticker)\n",
    "print(\"Actual Values:\", actual_values.flatten())\n",
    "print()\n",
    "print(\"***************************************************************\")\n",
    "print()\n",
    "print(\"Predicted Values\")\n",
    "print()\n",
    "print(\"Predicted Dates:\", predicted_dates)\n",
    "print(\"Predictions:\", predictions.flatten())\n",
    "\n",
    "last_prediction = predictions[-1][0]\n",
    "print()\n",
    "\n",
    "print()\n",
    "print(\"Prdiction Date\",end_date)\n",
    "print(\"Predicted Price \",last_prediction)"
   ]
  },
  {
   "cell_type": "code",
   "execution_count": 52,
   "id": "a0417dcc",
   "metadata": {},
   "outputs": [
    {
     "name": "stdout",
     "output_type": "stream",
     "text": [
      "Mean Squared Error (MSE): 5.528227983723134\n"
     ]
    }
   ],
   "source": [
    "from sklearn.metrics import mean_squared_error\n",
    "\n",
    "def evaluate_model_mse(actual_values, predictions):\n",
    "    mse = mean_squared_error(actual_values, predictions)\n",
    "    return mse\n",
    "\n",
    "# Example usage\n",
    "# Assuming actual_values and predictions are available\n",
    "mse = evaluate_model_mse(actual_values, predictions)\n",
    "print(f'Mean Squared Error (MSE): {mse}')\n"
   ]
  },
  {
   "cell_type": "code",
   "execution_count": 57,
   "id": "24812de9",
   "metadata": {},
   "outputs": [],
   "source": [
    "def plot_results(actual_values, predictions):\n",
    "    plt.figure(figsize=(12, 6))\n",
    "    plt.plot(actual_values, label='Actual Prices', color='blue', marker='o')\n",
    "    plt.plot(predictions, label='Predicted Prices', color='red', marker='o')\n",
    "    plt.title('Actual vs Predicted Stock Prices')\n",
    "    plt.xlabel('Time')\n",
    "    plt.ylabel('Stock Price')\n",
    "    plt.legend()\n",
    "    plt.grid(True)\n",
    "    plt.show()\n"
   ]
  },
  {
   "cell_type": "code",
   "execution_count": 58,
   "id": "9bfa9975",
   "metadata": {},
   "outputs": [
    {
     "data": {
      "image/png": "[encoded data removed]",
      "text/plain": [
       "<Figure size 1200x600 with 1 Axes>"
      ]
     },
     "metadata": {},
     "output_type": "display_data"
    }
   ],
   "source": [
    "plot_results(actual_values, predictions)"
   ]
  },
  {
   "cell_type": "code",
   "execution_count": null,
   "id": "231336cb",
   "metadata": {},
   "outputs": [],
   "source": []
  }
 ],
 "metadata": {
  "kernelspec": {
   "display_name": "Python 3 (ipykernel)",
   "language": "python",
   "name": "python3"
  },
  "language_info": {
   "codemirror_mode": {
    "name": "ipython",
    "version": 3
   },
   "file_extension": ".py",
   "mimetype": "text/x-python",
   "name": "python",
   "nbconvert_exporter": "python",
   "pygments_lexer": "ipython3",
   "version": "3.9.13"
  }
 },
 "nbformat": 4,
 "nbformat_minor": 5
}
